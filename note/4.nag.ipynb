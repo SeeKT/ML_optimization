{
 "cells": [
  {
   "cell_type": "markdown",
   "source": [
    "# NAG \n",
    "Artificial な関数に対して NAG を用いる．"
   ],
   "metadata": {}
  },
  {
   "cell_type": "code",
   "execution_count": 1,
   "source": [
    "########## Packages ##########\n",
    "import autograd.numpy as np\n",
    "from lib.lib import Test_function\n",
    "from lib.plot import Plot_func\n",
    "from lib.nag import NAG\n",
    "##############################"
   ],
   "outputs": [],
   "metadata": {}
  },
  {
   "cell_type": "code",
   "execution_count": 2,
   "source": [
    "##### instance of the class #####\n",
    "test = Test_function()\n",
    "pf = Plot_func()\n",
    "nag = NAG(maxiter=250, eps=1e-2, alpha=0.9)\n",
    "#################################"
   ],
   "outputs": [],
   "metadata": {}
  },
  {
   "cell_type": "code",
   "execution_count": 3,
   "source": [
    "##### execute NAG #####\n",
    "xinit = np.array([2.0, 1.5])\n",
    "distort_nag_x, itr_distort_nag = nag.nag(\n",
    "    func=test.distorted, xinit=xinit)\n",
    "#######################"
   ],
   "outputs": [
    {
     "output_type": "stream",
     "name": "stdout",
     "text": [
      "Converged. #Iter = 70\n"
     ]
    }
   ],
   "metadata": {}
  },
  {
   "cell_type": "code",
   "execution_count": null,
   "source": [
    "x_range = np.linspace(-2.5, 2.5, 51); y_range = np.linspace(-2.5, 2.5, 51)\n",
    "pf.plot_contour(\n",
    "    func=test.distorted, x_range=x_range, y_range=y_range, \n",
    "    x_val=distort_nag_x.T[0], y_val=distort_nag_x.T[1], \n",
    "    itr=itr_distort_nag, func_name=\"distorted\", method_name=\"nag\")"
   ],
   "outputs": [],
   "metadata": {}
  },
  {
   "cell_type": "markdown",
   "source": [
    "<img src=\"https://github.com/SeeKT/ML_optimization/blob/master/note/fig/distorted/contour_distorted_nag.gif?raw=true\">"
   ],
   "metadata": {}
  },
  {
   "cell_type": "code",
   "execution_count": 5,
   "source": [
    "##### execute NAG #####\n",
    "xinit = np.array([2.0, 2.5])\n",
    "ackley_nag_x, itr_ackley_nag = nag.nag(\n",
    "    func=test.ackley, xinit=xinit)\n",
    "#######################"
   ],
   "outputs": [
    {
     "output_type": "stream",
     "name": "stdout",
     "text": [
      "Converged. #Iter = 24\n"
     ]
    }
   ],
   "metadata": {}
  },
  {
   "cell_type": "code",
   "execution_count": null,
   "source": [
    "x_range = np.linspace(-5, 5, 51); y_range = np.linspace(-5, 5, 51)\n",
    "pf.plot_contour(\n",
    "    func=test.ackley, x_range=x_range, y_range=y_range, \n",
    "    x_val=ackley_nag_x.T[0], y_val=ackley_nag_x.T[1], \n",
    "    itr=itr_ackley_nag, func_name=\"ackley\", method_name=\"nag\")"
   ],
   "outputs": [],
   "metadata": {}
  },
  {
   "cell_type": "markdown",
   "source": [
    "<img src=\"https://github.com/SeeKT/ML_optimization/blob/master/note/fig/ackley/contour_ackley_nag.gif?raw=true\">"
   ],
   "metadata": {}
  },
  {
   "cell_type": "code",
   "execution_count": 7,
   "source": [
    "##### execute NAG #####\n",
    "xinit = np.array([2.0, 1.0])\n",
    "matyas_nag_x, itr_matyas_nag = nag.nag(\n",
    "    func=test.matyas, xinit=xinit)\n",
    "#######################"
   ],
   "outputs": [],
   "metadata": {}
  },
  {
   "cell_type": "code",
   "execution_count": null,
   "source": [
    "x_range = np.linspace(-0.5, 2.25, 51); y_range = np.linspace(-0.5, 2.25, 51)\n",
    "pf.plot_contour(\n",
    "    func=test.matyas, x_range=x_range, y_range=y_range, \n",
    "    x_val=matyas_nag_x.T[0], y_val=matyas_nag_x.T[1], \n",
    "    itr=itr_matyas_nag, func_name=\"matyas\", method_name=\"nag\")"
   ],
   "outputs": [],
   "metadata": {}
  },
  {
   "cell_type": "markdown",
   "source": [
    "<img src=\"https://github.com/SeeKT/ML_optimization/blob/master/note/fig/matyas/contour_matyas_nag.gif?raw=true\">"
   ],
   "metadata": {}
  }
 ],
 "metadata": {
  "orig_nbformat": 4,
  "language_info": {
   "name": "python",
   "version": "3.8.10",
   "mimetype": "text/x-python",
   "codemirror_mode": {
    "name": "ipython",
    "version": 3
   },
   "pygments_lexer": "ipython3",
   "nbconvert_exporter": "python",
   "file_extension": ".py"
  },
  "kernelspec": {
   "name": "python3",
   "display_name": "Python 3.8.10 64-bit"
  },
  "interpreter": {
   "hash": "916dbcbb3f70747c44a77c7bcd40155683ae19c65e1c03b4aa3499c5328201f1"
  }
 },
 "nbformat": 4,
 "nbformat_minor": 2
}