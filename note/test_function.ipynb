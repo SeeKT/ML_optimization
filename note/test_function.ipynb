{
 "cells": [
  {
   "cell_type": "code",
   "execution_count": 1,
   "source": [
    "########## Packages ##########\n",
    "import numpy as np\n",
    "from lib.lib import Test_function\n",
    "from lib.plot import Plot_func\n",
    "##############################"
   ],
   "outputs": [],
   "metadata": {}
  },
  {
   "cell_type": "code",
   "execution_count": 2,
   "source": [
    "##### instance of the class #####\n",
    "test = Test_function()\n",
    "pf = Plot_func()\n",
    "#################################"
   ],
   "outputs": [],
   "metadata": {}
  },
  {
   "cell_type": "code",
   "execution_count": null,
   "source": [
    "##### Plot #####\n",
    "x = np.linspace(-5.12, 5.12, 100)\n",
    "y = np.linspace(-5.12, 5.12, 100)\n",
    "pf.plotly_surface_contour(func=test.rastrigin, x_range=x, y_range=y, func_name=\"rastrigin\")\n",
    "################"
   ],
   "outputs": [],
   "metadata": {}
  }
 ],
 "metadata": {
  "orig_nbformat": 4,
  "language_info": {
   "name": "python",
   "version": "3.8.10",
   "mimetype": "text/x-python",
   "codemirror_mode": {
    "name": "ipython",
    "version": 3
   },
   "pygments_lexer": "ipython3",
   "nbconvert_exporter": "python",
   "file_extension": ".py"
  },
  "kernelspec": {
   "name": "python3",
   "display_name": "Python 3.8.10 64-bit"
  },
  "interpreter": {
   "hash": "31f2aee4e71d21fbe5cf8b01ff0e069b9275f58929596ceb00d14d90e3e16cd6"
  }
 },
 "nbformat": 4,
 "nbformat_minor": 2
}