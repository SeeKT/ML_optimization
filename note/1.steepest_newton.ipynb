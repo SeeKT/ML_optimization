{
 "cells": [
  {
   "cell_type": "markdown",
   "source": [
    "# 最急降下法とニュートン法\n",
    "機械学習を意識すると，データが given，モデルを構築し，損失関数およびコスト関数を定義するというようにすべきだが，今回は artificial な関数に対して勾配法を用いるというようにする．\n",
    "\n",
    "また，勾配を求める処理も自動微分を用いて行っている．\n",
    "\n",
    "ここでは，最急降下法とニュートン法を実装した．"
   ],
   "metadata": {}
  },
  {
   "cell_type": "code",
   "execution_count": 1,
   "source": [
    "########## Packages ##########\n",
    "import autograd.numpy as np\n",
    "from lib.lib import Test_function\n",
    "from lib.plot import Plot_func\n",
    "from lib.steepest_descent import Steepest\n",
    "from lib.newton import Newton\n",
    "##############################"
   ],
   "outputs": [],
   "metadata": {}
  },
  {
   "cell_type": "code",
   "execution_count": 2,
   "source": [
    "##### instance of the class #####\n",
    "test = Test_function()\n",
    "pf = Plot_func()\n",
    "stp = Steepest(maxiter=250)\n",
    "nt = Newton(maxiter=250)\n",
    "#################################"
   ],
   "outputs": [],
   "metadata": {}
  },
  {
   "cell_type": "markdown",
   "source": [
    "## 最急降下法"
   ],
   "metadata": {}
  },
  {
   "cell_type": "code",
   "execution_count": 3,
   "source": [
    "##### execute steepest descent #####\n",
    "xinit = np.array([2.0, 1.5])\n",
    "distort_steepest_x, itr_distort_steepest = stp.steepest_descent(\n",
    "    func=test.distorted, xinit=xinit)\n",
    "####################################"
   ],
   "outputs": [
    {
     "output_type": "stream",
     "name": "stdout",
     "text": [
      "Converged. #Iter = 113\n"
     ]
    }
   ],
   "metadata": {}
  },
  {
   "cell_type": "code",
   "execution_count": null,
   "source": [
    "x_range = np.linspace(-2.5, 2.5, 51); y_range = np.linspace(-2.5, 2.5, 51)\n",
    "pf.plot_contour(\n",
    "    func=test.sphere, x_range=x_range, y_range=y_range, \n",
    "    x_val=distort_steepest_x.T[0], y_val=distort_steepest_x.T[1], \n",
    "    itr=itr_distort_steepest, func_name=\"distorted\", method_name=\"steepest\")"
   ],
   "outputs": [],
   "metadata": {}
  },
  {
   "cell_type": "markdown",
   "source": [
    "<img src=\"./fig/distorted/contour_distorted_steepest.gif\">"
   ],
   "metadata": {}
  },
  {
   "cell_type": "code",
   "execution_count": 5,
   "source": [
    "##### execute steepest descent #####\n",
    "xinit = np.array([4.0, 2.5])\n",
    "ackley_steepest_x, itr_ackley_steepest = stp.steepest_descent(\n",
    "    func=test.ackley, xinit=xinit)\n",
    "####################################"
   ],
   "outputs": [
    {
     "output_type": "stream",
     "name": "stdout",
     "text": [
      "Converged. #Iter = 14\n"
     ]
    }
   ],
   "metadata": {}
  },
  {
   "cell_type": "code",
   "execution_count": null,
   "source": [
    "x_range = np.linspace(-5, 5, 51); y_range = np.linspace(-5, 5, 51)\n",
    "pf.plot_contour(\n",
    "    func=test.ackley, x_range=x_range, y_range=y_range, \n",
    "    x_val=ackley_steepest_x.T[0], y_val=ackley_steepest_x.T[1], \n",
    "    itr=itr_ackley_steepest, func_name=\"ackley\", method_name=\"steepest\")"
   ],
   "outputs": [],
   "metadata": {}
  },
  {
   "cell_type": "markdown",
   "source": [
    "<img src=\"./fig/ackley/contour_ackley_steepest.gif\">"
   ],
   "metadata": {}
  },
  {
   "cell_type": "code",
   "execution_count": 7,
   "source": [
    "##### execute steepest descent #####\n",
    "xinit = np.array([3.0, 5.0])\n",
    "easom_steepest_x, itr_easom_steepest = stp.steepest_descent(\n",
    "    func=test.easom, xinit=xinit)\n",
    "####################################"
   ],
   "outputs": [],
   "metadata": {}
  },
  {
   "cell_type": "code",
   "execution_count": null,
   "source": [
    "x_range = np.linspace(0, 5, 51); y_range = np.linspace(0, 10, 51)\n",
    "pf.plot_contour(\n",
    "    func=test.easom, x_range=x_range, y_range=y_range, \n",
    "    x_val=easom_steepest_x.T[0], y_val=easom_steepest_x.T[1], \n",
    "    itr=itr_easom_steepest, func_name=\"easom\", method_name=\"steepest\")"
   ],
   "outputs": [],
   "metadata": {}
  },
  {
   "cell_type": "markdown",
   "source": [
    "<img src=\"./fig/easom/contour_easom_steepest.gif\">"
   ],
   "metadata": {}
  },
  {
   "cell_type": "markdown",
   "source": [
    "## ニュートン法"
   ],
   "metadata": {}
  },
  {
   "cell_type": "code",
   "execution_count": 9,
   "source": [
    "##### execute Newton #####\n",
    "xinit = np.array([2.0, 1.5])\n",
    "distort_newton_x, itr_distort_newton = nt.newton(\n",
    "    func=test.distorted, xinit=xinit)\n",
    "##########################"
   ],
   "outputs": [
    {
     "output_type": "stream",
     "name": "stdout",
     "text": [
      "Converged. #Iter = 2\n"
     ]
    }
   ],
   "metadata": {}
  },
  {
   "cell_type": "code",
   "execution_count": null,
   "source": [
    "x_range = np.linspace(-2.5, 2.5, 51); y_range = np.linspace(-2.5, 2.5, 51)\n",
    "pf.plot_contour(\n",
    "    func=test.sphere, x_range=x_range, y_range=y_range, \n",
    "    x_val=distort_newton_x.T[0], y_val=distort_newton_x.T[1], \n",
    "    itr=itr_distort_newton, func_name=\"distorted\", method_name=\"newton\")"
   ],
   "outputs": [],
   "metadata": {}
  },
  {
   "cell_type": "markdown",
   "source": [
    "<img src=\"./fig/distorted/contour_distorted_newton.gif\">"
   ],
   "metadata": {}
  },
  {
   "cell_type": "code",
   "execution_count": 11,
   "source": [
    "##### execute Newton #####\n",
    "xinit = np.array([4.0, 2.5])\n",
    "ackley_newton_x, itr_ackley_newton = nt.newton(\n",
    "    func=test.ackley, xinit=xinit)\n",
    "##########################"
   ],
   "outputs": [
    {
     "output_type": "stream",
     "name": "stdout",
     "text": [
      "Converged. #Iter = 3\n"
     ]
    }
   ],
   "metadata": {}
  },
  {
   "cell_type": "code",
   "execution_count": null,
   "source": [
    "x_range = np.linspace(-5, 5, 51); y_range = np.linspace(-5, 5, 51)\n",
    "pf.plot_contour(\n",
    "    func=test.ackley, x_range=x_range, y_range=y_range, \n",
    "    x_val=ackley_newton_x.T[0], y_val=ackley_newton_x.T[1], \n",
    "    itr=itr_ackley_newton, func_name=\"ackley\", method_name=\"newton\")"
   ],
   "outputs": [],
   "metadata": {}
  },
  {
   "cell_type": "markdown",
   "source": [
    "<img src=\"./fig/ackley/contour_ackley_newton.gif\">"
   ],
   "metadata": {}
  },
  {
   "cell_type": "code",
   "execution_count": 13,
   "source": [
    "##### execute Newton #####\n",
    "xinit = np.array([3.0, 5.0])\n",
    "easom_newton_x, itr_easom_newton = nt.newton(\n",
    "    func=test.easom, xinit=xinit)\n",
    "##########################"
   ],
   "outputs": [
    {
     "output_type": "stream",
     "name": "stdout",
     "text": [
      "Converged. #Iter = 3\n"
     ]
    }
   ],
   "metadata": {}
  },
  {
   "cell_type": "code",
   "execution_count": null,
   "source": [
    "x_range = np.linspace(0, 5, 51); y_range = np.linspace(0, 10, 51)\n",
    "pf.plot_contour(\n",
    "    func=test.easom, x_range=x_range, y_range=y_range, \n",
    "    x_val=easom_newton_x.T[0], y_val=easom_newton_x.T[1], \n",
    "    itr=itr_easom_newton, func_name=\"easom\", method_name=\"newton\")"
   ],
   "outputs": [],
   "metadata": {}
  },
  {
   "cell_type": "markdown",
   "source": [
    "<img src=\"./fig/easom/contour_easom_newton.gif\">"
   ],
   "metadata": {}
  }
 ],
 "metadata": {
  "orig_nbformat": 4,
  "language_info": {
   "name": "python",
   "version": "3.8.10",
   "mimetype": "text/x-python",
   "codemirror_mode": {
    "name": "ipython",
    "version": 3
   },
   "pygments_lexer": "ipython3",
   "nbconvert_exporter": "python",
   "file_extension": ".py"
  },
  "kernelspec": {
   "name": "python3",
   "display_name": "Python 3.8.10 64-bit"
  },
  "interpreter": {
   "hash": "31f2aee4e71d21fbe5cf8b01ff0e069b9275f58929596ceb00d14d90e3e16cd6"
  }
 },
 "nbformat": 4,
 "nbformat_minor": 2
}