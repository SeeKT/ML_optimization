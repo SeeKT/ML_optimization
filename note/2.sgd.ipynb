{
 "cells": [
  {
   "cell_type": "markdown",
   "source": [
    "# SGD\n",
    "\n",
    "Artificial な関数に対して SGD を用いる．\n",
    "\n",
    "勾配計算はデータを minibatch に分割するなどして行うべきだろうが，ここでは勾配を求めるところは 最急降下法と同様にしている (関数や勾配を求める部分を変更すれば minibatch に適用できると思う)．"
   ],
   "metadata": {}
  },
  {
   "cell_type": "code",
   "execution_count": 1,
   "source": [
    "########## Packages ##########\n",
    "import autograd.numpy as np\n",
    "from lib.lib import Test_function\n",
    "from lib.plot import Plot_func\n",
    "from lib.sgd import Stochastic_gradient\n",
    "##############################"
   ],
   "outputs": [],
   "metadata": {}
  },
  {
   "cell_type": "code",
   "execution_count": 2,
   "source": [
    "##### instance of the class #####\n",
    "test = Test_function()\n",
    "pf = Plot_func()\n",
    "sgd = Stochastic_gradient(maxiter=250, eps_0=1.0, eps_tau=0.01, tau=100)\n",
    "#################################"
   ],
   "outputs": [],
   "metadata": {}
  },
  {
   "cell_type": "code",
   "execution_count": 3,
   "source": [
    "##### execute SGD #####\n",
    "xinit = np.array([2.0, 1.5])\n",
    "distort_sgd_x, itr_distort_sgd = sgd.stochastic_gradient(\n",
    "    func=test.distorted, xinit=xinit)\n",
    "#######################"
   ],
   "outputs": [
    {
     "output_type": "stream",
     "name": "stdout",
     "text": [
      "Converged. #Iter = 25\n"
     ]
    }
   ],
   "metadata": {}
  },
  {
   "cell_type": "code",
   "execution_count": null,
   "source": [
    "x_range = np.linspace(-2.5, 2.5, 51); y_range = np.linspace(-2.5, 2.5, 51)\n",
    "pf.plot_contour(\n",
    "    func=test.distorted, x_range=x_range, y_range=y_range, \n",
    "    x_val=distort_sgd_x.T[0], y_val=distort_sgd_x.T[1], \n",
    "    itr=itr_distort_sgd, func_name=\"distorted\", method_name=\"sgd\")"
   ],
   "outputs": [],
   "metadata": {}
  },
  {
   "cell_type": "markdown",
   "source": [
    "<img src=\"https://github.com/SeeKT/ML_optimization/blob/master/note/fig/distorted/contour_distorted_sgd.gif?raw=true\">"
   ],
   "metadata": {}
  },
  {
   "cell_type": "code",
   "execution_count": 6,
   "source": [
    "##### execute SGD #####\n",
    "xinit = np.array([2.0, 2.5])\n",
    "ackley_sgd_x, itr_ackley_sgd = sgd.stochastic_gradient(\n",
    "    func=test.ackley, xinit=xinit)\n",
    "#######################"
   ],
   "outputs": [
    {
     "output_type": "stream",
     "name": "stdout",
     "text": [
      "Converged. #Iter = 103\n"
     ]
    }
   ],
   "metadata": {}
  },
  {
   "cell_type": "code",
   "execution_count": null,
   "source": [
    "x_range = np.linspace(-10, 15, 51); y_range = np.linspace(-30, 5, 51)\n",
    "pf.plot_contour(\n",
    "    func=test.ackley, x_range=x_range, y_range=y_range, \n",
    "    x_val=ackley_sgd_x.T[0], y_val=ackley_sgd_x.T[1], \n",
    "    itr=itr_ackley_sgd, func_name=\"ackley\", method_name=\"sgd\")"
   ],
   "outputs": [],
   "metadata": {}
  },
  {
   "cell_type": "markdown",
   "source": [
    "<img src=\"https://github.com/SeeKT/ML_optimization/blob/master/note/fig/ackley/contour_ackley_sgd.gif?raw=true\">"
   ],
   "metadata": {}
  },
  {
   "cell_type": "code",
   "execution_count": 10,
   "source": [
    "##### execute SGD #####\n",
    "xinit = np.array([2.0, 1.0])\n",
    "matyas_sgd_x, itr_matyas_sgd = sgd.stochastic_gradient(\n",
    "    func=test.matyas, xinit=xinit)\n",
    "#######################"
   ],
   "outputs": [],
   "metadata": {}
  },
  {
   "cell_type": "code",
   "execution_count": null,
   "source": [
    "x_range = np.linspace(-0.5, 2.25, 51); y_range = np.linspace(-0.5, 2.25, 51)\n",
    "pf.plot_contour(\n",
    "    func=test.matyas, x_range=x_range, y_range=y_range, \n",
    "    x_val=matyas_sgd_x.T[0], y_val=matyas_sgd_x.T[1], \n",
    "    itr=itr_matyas_sgd, func_name=\"matyas\", method_name=\"sgd\")"
   ],
   "outputs": [],
   "metadata": {}
  },
  {
   "cell_type": "markdown",
   "source": [
    "<img src=\"https://github.com/SeeKT/ML_optimization/blob/master/note/fig/matyas/contour_matyas_sgd.gif?raw=true\">"
   ],
   "metadata": {}
  }
 ],
 "metadata": {
  "orig_nbformat": 4,
  "language_info": {
   "name": "python",
   "version": "3.8.10",
   "mimetype": "text/x-python",
   "codemirror_mode": {
    "name": "ipython",
    "version": 3
   },
   "pygments_lexer": "ipython3",
   "nbconvert_exporter": "python",
   "file_extension": ".py"
  },
  "kernelspec": {
   "name": "python3",
   "display_name": "Python 3.8.10 64-bit"
  },
  "interpreter": {
   "hash": "916dbcbb3f70747c44a77c7bcd40155683ae19c65e1c03b4aa3499c5328201f1"
  }
 },
 "nbformat": 4,
 "nbformat_minor": 2
}