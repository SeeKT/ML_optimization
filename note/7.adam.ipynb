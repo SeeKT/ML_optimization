{
 "cells": [
  {
   "cell_type": "markdown",
   "source": [
    "# Adam \n",
    "Artificial な関数に対して Adam を用いる．"
   ],
   "metadata": {}
  },
  {
   "cell_type": "code",
   "execution_count": 1,
   "source": [
    "########## Packages ##########\n",
    "import autograd.numpy as np\n",
    "from lib.lib import Test_function\n",
    "from lib.plot import Plot_func\n",
    "from lib.adam import Adam\n",
    "##############################"
   ],
   "outputs": [],
   "metadata": {}
  },
  {
   "cell_type": "code",
   "execution_count": 2,
   "source": [
    "##### instance of the class #####\n",
    "test = Test_function()\n",
    "pf = Plot_func()\n",
    "adam = Adam(maxiter=250, eps=0.001)\n",
    "#################################"
   ],
   "outputs": [],
   "metadata": {}
  },
  {
   "cell_type": "code",
   "execution_count": 3,
   "source": [
    "##### execute Adam #####\n",
    "xinit = np.array([2.0, 1.5])\n",
    "distort_adam_x, itr_distort_adam = adam.adam(\n",
    "    func=test.distorted, xinit=xinit)\n",
    "########################"
   ],
   "outputs": [],
   "metadata": {}
  },
  {
   "cell_type": "code",
   "execution_count": null,
   "source": [
    "x_range = np.linspace(-2.5, 2.5, 51); y_range = np.linspace(-2.5, 2.5, 51)\n",
    "pf.plot_contour(\n",
    "    func=test.distorted, x_range=x_range, y_range=y_range, \n",
    "    x_val=distort_adam_x.T[0], y_val=distort_adam_x.T[1], \n",
    "    itr=itr_distort_adam, func_name=\"distorted\", method_name=\"adam\")"
   ],
   "outputs": [],
   "metadata": {}
  },
  {
   "cell_type": "markdown",
   "source": [
    "<img src=\"https://github.com/SeeKT/ML_optimization/blob/master/note/fig/distorted/contour_distorted_adam.gif?raw=true\">"
   ],
   "metadata": {}
  },
  {
   "cell_type": "code",
   "execution_count": 6,
   "source": [
    "##### execute Adam #####\n",
    "xinit = np.array([2.0, 2.5])\n",
    "ackley_adam_x, itr_ackley_adam = adam.adam(\n",
    "    func=test.ackley, xinit=xinit)\n",
    "########################"
   ],
   "outputs": [],
   "metadata": {}
  },
  {
   "cell_type": "code",
   "execution_count": null,
   "source": [
    "x_range = np.linspace(-5, 5, 51); y_range = np.linspace(-5, 5, 51)\n",
    "pf.plot_contour(\n",
    "    func=test.ackley, x_range=x_range, y_range=y_range, \n",
    "    x_val=ackley_adam_x.T[0], y_val=ackley_adam_x.T[1], \n",
    "    itr=itr_ackley_adam, func_name=\"ackley\", method_name=\"adam\")"
   ],
   "outputs": [],
   "metadata": {}
  },
  {
   "cell_type": "markdown",
   "source": [
    "<img src=\"https://github.com/SeeKT/ML_optimization/blob/master/note/fig/ackley/contour_ackley_adam.gif?raw=true\">"
   ],
   "metadata": {}
  },
  {
   "cell_type": "code",
   "execution_count": 8,
   "source": [
    "##### execute Adam #####\n",
    "xinit = np.array([2.0, 1.0])\n",
    "matyas_adam_x, itr_matyas_adam = adam.adam(\n",
    "    func=test.matyas, xinit=xinit)\n",
    "########################"
   ],
   "outputs": [],
   "metadata": {}
  },
  {
   "cell_type": "code",
   "execution_count": null,
   "source": [
    "x_range = np.linspace(-0.5, 2.25, 51); y_range = np.linspace(-0.5, 2.25, 51)\n",
    "pf.plot_contour(\n",
    "    func=test.matyas, x_range=x_range, y_range=y_range, \n",
    "    x_val=matyas_adam_x.T[0], y_val=matyas_adam_x.T[1], \n",
    "    itr=itr_matyas_adam, func_name=\"matyas\", method_name=\"adam\")"
   ],
   "outputs": [],
   "metadata": {}
  },
  {
   "cell_type": "markdown",
   "source": [
    "<img src=\"https://github.com/SeeKT/ML_optimization/blob/master/note/fig/matyas/contour_matyas_adam.gif?raw=true\">"
   ],
   "metadata": {}
  }
 ],
 "metadata": {
  "orig_nbformat": 4,
  "language_info": {
   "name": "python",
   "version": "3.8.10",
   "mimetype": "text/x-python",
   "codemirror_mode": {
    "name": "ipython",
    "version": 3
   },
   "pygments_lexer": "ipython3",
   "nbconvert_exporter": "python",
   "file_extension": ".py"
  },
  "kernelspec": {
   "name": "python3",
   "display_name": "Python 3.8.10 64-bit"
  },
  "interpreter": {
   "hash": "31f2aee4e71d21fbe5cf8b01ff0e069b9275f58929596ceb00d14d90e3e16cd6"
  }
 },
 "nbformat": 4,
 "nbformat_minor": 2
}